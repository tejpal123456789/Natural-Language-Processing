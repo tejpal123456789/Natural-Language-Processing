{
  "nbformat": 4,
  "nbformat_minor": 0,
  "metadata": {
    "colab": {
      "name": "language_detection.ipynb",
      "provenance": [],
      "authorship_tag": "ABX9TyOY/KGRCRrkazsNKLGBbvVT",
      "include_colab_link": true
    },
    "kernelspec": {
      "name": "python3",
      "display_name": "Python 3"
    }
  },
  "cells": [
    {
      "cell_type": "markdown",
      "metadata": {
        "id": "view-in-github",
        "colab_type": "text"
      },
      "source": [
        "<a href=\"https://colab.research.google.com/github/tejpal123456789/Natural-Language-Processing/blob/main/language_detection.ipynb\" target=\"_parent\"><img src=\"https://colab.research.google.com/assets/colab-badge.svg\" alt=\"Open In Colab\"/></a>"
      ]
    },
    {
      "cell_type": "code",
      "metadata": {
        "colab": {
          "base_uri": "https://localhost:8080/"
        },
        "id": "2R01I59zdcJR",
        "outputId": "7469067c-076d-45cc-a40b-44a95ce65c4b"
      },
      "source": [
        "import pandas as pd\r\n",
        "import pandas as pd\r\n",
        "import tensorflow as tf\r\n",
        "\r\n",
        "!git clone https://github.com/suvaansh/Machine-Translation-English-to-Hindi-.git\r\n"
      ],
      "execution_count": null,
      "outputs": [
        {
          "output_type": "stream",
          "text": [
            "fatal: destination path 'Machine-Translation-English-to-Hindi-' already exists and is not an empty directory.\n"
          ],
          "name": "stdout"
        }
      ]
    },
    {
      "cell_type": "code",
      "metadata": {
        "colab": {
          "base_uri": "https://localhost:8080/",
          "height": 202
        },
        "id": "wivCGs--d2wk",
        "outputId": "83e64248-291d-47a1-eebc-6e13aed94035"
      },
      "source": [
        "data=pd.read_csv('/content/Machine-Translation-English-to-Hindi-/hin.txt',sep='\\t',header=None)\r\n",
        "data.head()\r\n"
      ],
      "execution_count": null,
      "outputs": [
        {
          "output_type": "execute_result",
          "data": {
            "text/html": [
              "<div>\n",
              "<style scoped>\n",
              "    .dataframe tbody tr th:only-of-type {\n",
              "        vertical-align: middle;\n",
              "    }\n",
              "\n",
              "    .dataframe tbody tr th {\n",
              "        vertical-align: top;\n",
              "    }\n",
              "\n",
              "    .dataframe thead th {\n",
              "        text-align: right;\n",
              "    }\n",
              "</style>\n",
              "<table border=\"1\" class=\"dataframe\">\n",
              "  <thead>\n",
              "    <tr style=\"text-align: right;\">\n",
              "      <th></th>\n",
              "      <th>0</th>\n",
              "      <th>1</th>\n",
              "    </tr>\n",
              "  </thead>\n",
              "  <tbody>\n",
              "    <tr>\n",
              "      <th>0</th>\n",
              "      <td>Help!</td>\n",
              "      <td>बचाओ!</td>\n",
              "    </tr>\n",
              "    <tr>\n",
              "      <th>1</th>\n",
              "      <td>Jump.</td>\n",
              "      <td>उछलो.</td>\n",
              "    </tr>\n",
              "    <tr>\n",
              "      <th>2</th>\n",
              "      <td>Jump.</td>\n",
              "      <td>कूदो.</td>\n",
              "    </tr>\n",
              "    <tr>\n",
              "      <th>3</th>\n",
              "      <td>Jump.</td>\n",
              "      <td>छलांग.</td>\n",
              "    </tr>\n",
              "    <tr>\n",
              "      <th>4</th>\n",
              "      <td>Hello!</td>\n",
              "      <td>नमस्ते।</td>\n",
              "    </tr>\n",
              "  </tbody>\n",
              "</table>\n",
              "</div>"
            ],
            "text/plain": [
              "        0        1\n",
              "0   Help!    बचाओ!\n",
              "1   Jump.    उछलो.\n",
              "2   Jump.    कूदो.\n",
              "3   Jump.   छलांग.\n",
              "4  Hello!  नमस्ते।"
            ]
          },
          "metadata": {
            "tags": []
          },
          "execution_count": 91
        }
      ]
    },
    {
      "cell_type": "code",
      "metadata": {
        "colab": {
          "base_uri": "https://localhost:8080/"
        },
        "id": "ONBpvbS0eN9r",
        "outputId": "59a373b5-3d1a-49dc-ee44-834b44e2dfbd"
      },
      "source": [
        "data.shape"
      ],
      "execution_count": null,
      "outputs": [
        {
          "output_type": "execute_result",
          "data": {
            "text/plain": [
              "(2869, 2)"
            ]
          },
          "metadata": {
            "tags": []
          },
          "execution_count": 92
        }
      ]
    },
    {
      "cell_type": "code",
      "metadata": {
        "colab": {
          "base_uri": "https://localhost:8080/",
          "height": 202
        },
        "id": "6DSLXuvXeR3b",
        "outputId": "02171faf-5d88-423d-b708-d2e109940329"
      },
      "source": [
        "data.tail()"
      ],
      "execution_count": null,
      "outputs": [
        {
          "output_type": "execute_result",
          "data": {
            "text/html": [
              "<div>\n",
              "<style scoped>\n",
              "    .dataframe tbody tr th:only-of-type {\n",
              "        vertical-align: middle;\n",
              "    }\n",
              "\n",
              "    .dataframe tbody tr th {\n",
              "        vertical-align: top;\n",
              "    }\n",
              "\n",
              "    .dataframe thead th {\n",
              "        text-align: right;\n",
              "    }\n",
              "</style>\n",
              "<table border=\"1\" class=\"dataframe\">\n",
              "  <thead>\n",
              "    <tr style=\"text-align: right;\">\n",
              "      <th></th>\n",
              "      <th>0</th>\n",
              "      <th>1</th>\n",
              "    </tr>\n",
              "  </thead>\n",
              "  <tbody>\n",
              "    <tr>\n",
              "      <th>2864</th>\n",
              "      <td>The passengers who were injured in the acciden...</td>\n",
              "      <td>जिन यात्रियों को दुर्घटना मे चोट आई थी उन्हे अ...</td>\n",
              "    </tr>\n",
              "    <tr>\n",
              "      <th>2865</th>\n",
              "      <td>Democracy is the worst form of government, exc...</td>\n",
              "      <td>लोकतंत्र सरकार का सबसे घिनौना रूप है, अगर बाकी...</td>\n",
              "    </tr>\n",
              "    <tr>\n",
              "      <th>2866</th>\n",
              "      <td>If my boy had not been killed in the traffic a...</td>\n",
              "      <td>अगर मेरा बेटा ट्रेफ़िक हादसे में नहीं मारा गया...</td>\n",
              "    </tr>\n",
              "    <tr>\n",
              "      <th>2867</th>\n",
              "      <td>When I was a kid, touching bugs didn't bother ...</td>\n",
              "      <td>जब मैं बच्चा था, मुझे कीड़ों को छूने से कोई पर...</td>\n",
              "    </tr>\n",
              "    <tr>\n",
              "      <th>2868</th>\n",
              "      <td>Make a good translation of the sentence that y...</td>\n",
              "      <td>आप जिस वाक्य का अनुवाद कर रहे हैं, उस ही का अच...</td>\n",
              "    </tr>\n",
              "  </tbody>\n",
              "</table>\n",
              "</div>"
            ],
            "text/plain": [
              "                                                      0                                                  1\n",
              "2864  The passengers who were injured in the acciden...  जिन यात्रियों को दुर्घटना मे चोट आई थी उन्हे अ...\n",
              "2865  Democracy is the worst form of government, exc...  लोकतंत्र सरकार का सबसे घिनौना रूप है, अगर बाकी...\n",
              "2866  If my boy had not been killed in the traffic a...  अगर मेरा बेटा ट्रेफ़िक हादसे में नहीं मारा गया...\n",
              "2867  When I was a kid, touching bugs didn't bother ...  जब मैं बच्चा था, मुझे कीड़ों को छूने से कोई पर...\n",
              "2868  Make a good translation of the sentence that y...  आप जिस वाक्य का अनुवाद कर रहे हैं, उस ही का अच..."
            ]
          },
          "metadata": {
            "tags": []
          },
          "execution_count": 93
        }
      ]
    },
    {
      "cell_type": "code",
      "metadata": {
        "colab": {
          "base_uri": "https://localhost:8080/"
        },
        "id": "xy1c15CNeVHa",
        "outputId": "7f899310-c1b3-417d-e965-bb553f2c1df2"
      },
      "source": [
        "hindi_data=data.iloc[:,1]\r\n",
        "hindi_data.head()\r\n",
        "data1=data.iloc[:,0].append(hindi_data)\r\n",
        "data1.reset_index"
      ],
      "execution_count": null,
      "outputs": [
        {
          "output_type": "execute_result",
          "data": {
            "text/plain": [
              "<bound method Series.reset_index of 0                                                   Help!\n",
              "1                                                   Jump.\n",
              "2                                                   Jump.\n",
              "3                                                   Jump.\n",
              "4                                                  Hello!\n",
              "                              ...                        \n",
              "2864    जिन यात्रियों को दुर्घटना मे चोट आई थी उन्हे अ...\n",
              "2865    लोकतंत्र सरकार का सबसे घिनौना रूप है, अगर बाकी...\n",
              "2866    अगर मेरा बेटा ट्रेफ़िक हादसे में नहीं मारा गया...\n",
              "2867    जब मैं बच्चा था, मुझे कीड़ों को छूने से कोई पर...\n",
              "2868    आप जिस वाक्य का अनुवाद कर रहे हैं, उस ही का अच...\n",
              "Length: 5738, dtype: object>"
            ]
          },
          "metadata": {
            "tags": []
          },
          "execution_count": 94
        }
      ]
    },
    {
      "cell_type": "code",
      "metadata": {
        "colab": {
          "base_uri": "https://localhost:8080/"
        },
        "id": "wrb6dNC1e15r",
        "outputId": "9dc8d6e1-9129-40ea-89ec-2ccd406ad738"
      },
      "source": [
        "data1.head()"
      ],
      "execution_count": null,
      "outputs": [
        {
          "output_type": "execute_result",
          "data": {
            "text/plain": [
              "0     Help!\n",
              "1     Jump.\n",
              "2     Jump.\n",
              "3     Jump.\n",
              "4    Hello!\n",
              "dtype: object"
            ]
          },
          "metadata": {
            "tags": []
          },
          "execution_count": 95
        }
      ]
    },
    {
      "cell_type": "code",
      "metadata": {
        "colab": {
          "base_uri": "https://localhost:8080/"
        },
        "id": "Tseu3sJffJj1",
        "outputId": "66b7b146-2782-4fb2-d253-81d57dd41b88"
      },
      "source": [
        "data1.shape"
      ],
      "execution_count": null,
      "outputs": [
        {
          "output_type": "execute_result",
          "data": {
            "text/plain": [
              "(5738,)"
            ]
          },
          "metadata": {
            "tags": []
          },
          "execution_count": 96
        }
      ]
    },
    {
      "cell_type": "code",
      "metadata": {
        "colab": {
          "base_uri": "https://localhost:8080/"
        },
        "id": "MHmdIV-jfqGR",
        "outputId": "7c580e54-2540-46f3-f1f1-8f8ac8e02b68"
      },
      "source": [
        "data1.tail()"
      ],
      "execution_count": null,
      "outputs": [
        {
          "output_type": "execute_result",
          "data": {
            "text/plain": [
              "2864    जिन यात्रियों को दुर्घटना मे चोट आई थी उन्हे अ...\n",
              "2865    लोकतंत्र सरकार का सबसे घिनौना रूप है, अगर बाकी...\n",
              "2866    अगर मेरा बेटा ट्रेफ़िक हादसे में नहीं मारा गया...\n",
              "2867    जब मैं बच्चा था, मुझे कीड़ों को छूने से कोई पर...\n",
              "2868    आप जिस वाक्य का अनुवाद कर रहे हैं, उस ही का अच...\n",
              "dtype: object"
            ]
          },
          "metadata": {
            "tags": []
          },
          "execution_count": 97
        }
      ]
    },
    {
      "cell_type": "code",
      "metadata": {
        "colab": {
          "base_uri": "https://localhost:8080/"
        },
        "id": "f1c6nNdyftgV",
        "outputId": "4b0355ba-d11f-4e6e-87f2-f80ce6eb557c"
      },
      "source": [
        "data1.shape"
      ],
      "execution_count": null,
      "outputs": [
        {
          "output_type": "execute_result",
          "data": {
            "text/plain": [
              "(5738,)"
            ]
          },
          "metadata": {
            "tags": []
          },
          "execution_count": 98
        }
      ]
    },
    {
      "cell_type": "code",
      "metadata": {
        "colab": {
          "base_uri": "https://localhost:8080/",
          "height": 202
        },
        "id": "48uQyDOWhCgT",
        "outputId": "daa5c1af-f70a-475a-e54f-1f504c9dba12"
      },
      "source": [
        "data2=pd.DataFrame(data=data1)\r\n",
        "data2.head()\r\n",
        "data2.reset_index(inplace=True)\r\n",
        "data2.tail()"
      ],
      "execution_count": null,
      "outputs": [
        {
          "output_type": "execute_result",
          "data": {
            "text/html": [
              "<div>\n",
              "<style scoped>\n",
              "    .dataframe tbody tr th:only-of-type {\n",
              "        vertical-align: middle;\n",
              "    }\n",
              "\n",
              "    .dataframe tbody tr th {\n",
              "        vertical-align: top;\n",
              "    }\n",
              "\n",
              "    .dataframe thead th {\n",
              "        text-align: right;\n",
              "    }\n",
              "</style>\n",
              "<table border=\"1\" class=\"dataframe\">\n",
              "  <thead>\n",
              "    <tr style=\"text-align: right;\">\n",
              "      <th></th>\n",
              "      <th>index</th>\n",
              "      <th>0</th>\n",
              "    </tr>\n",
              "  </thead>\n",
              "  <tbody>\n",
              "    <tr>\n",
              "      <th>5733</th>\n",
              "      <td>2864</td>\n",
              "      <td>जिन यात्रियों को दुर्घटना मे चोट आई थी उन्हे अ...</td>\n",
              "    </tr>\n",
              "    <tr>\n",
              "      <th>5734</th>\n",
              "      <td>2865</td>\n",
              "      <td>लोकतंत्र सरकार का सबसे घिनौना रूप है, अगर बाकी...</td>\n",
              "    </tr>\n",
              "    <tr>\n",
              "      <th>5735</th>\n",
              "      <td>2866</td>\n",
              "      <td>अगर मेरा बेटा ट्रेफ़िक हादसे में नहीं मारा गया...</td>\n",
              "    </tr>\n",
              "    <tr>\n",
              "      <th>5736</th>\n",
              "      <td>2867</td>\n",
              "      <td>जब मैं बच्चा था, मुझे कीड़ों को छूने से कोई पर...</td>\n",
              "    </tr>\n",
              "    <tr>\n",
              "      <th>5737</th>\n",
              "      <td>2868</td>\n",
              "      <td>आप जिस वाक्य का अनुवाद कर रहे हैं, उस ही का अच...</td>\n",
              "    </tr>\n",
              "  </tbody>\n",
              "</table>\n",
              "</div>"
            ],
            "text/plain": [
              "      index                                                  0\n",
              "5733   2864  जिन यात्रियों को दुर्घटना मे चोट आई थी उन्हे अ...\n",
              "5734   2865  लोकतंत्र सरकार का सबसे घिनौना रूप है, अगर बाकी...\n",
              "5735   2866  अगर मेरा बेटा ट्रेफ़िक हादसे में नहीं मारा गया...\n",
              "5736   2867  जब मैं बच्चा था, मुझे कीड़ों को छूने से कोई पर...\n",
              "5737   2868  आप जिस वाक्य का अनुवाद कर रहे हैं, उस ही का अच..."
            ]
          },
          "metadata": {
            "tags": []
          },
          "execution_count": 99
        }
      ]
    },
    {
      "cell_type": "code",
      "metadata": {
        "colab": {
          "base_uri": "https://localhost:8080/",
          "height": 202
        },
        "id": "bFWneyd5hkwD",
        "outputId": "cf623a2f-a0e2-4928-a6ba-64925a514615"
      },
      "source": [
        "data2['language_type']='language'\r\n",
        "data2.head()"
      ],
      "execution_count": null,
      "outputs": [
        {
          "output_type": "execute_result",
          "data": {
            "text/html": [
              "<div>\n",
              "<style scoped>\n",
              "    .dataframe tbody tr th:only-of-type {\n",
              "        vertical-align: middle;\n",
              "    }\n",
              "\n",
              "    .dataframe tbody tr th {\n",
              "        vertical-align: top;\n",
              "    }\n",
              "\n",
              "    .dataframe thead th {\n",
              "        text-align: right;\n",
              "    }\n",
              "</style>\n",
              "<table border=\"1\" class=\"dataframe\">\n",
              "  <thead>\n",
              "    <tr style=\"text-align: right;\">\n",
              "      <th></th>\n",
              "      <th>index</th>\n",
              "      <th>0</th>\n",
              "      <th>language_type</th>\n",
              "    </tr>\n",
              "  </thead>\n",
              "  <tbody>\n",
              "    <tr>\n",
              "      <th>0</th>\n",
              "      <td>0</td>\n",
              "      <td>Help!</td>\n",
              "      <td>language</td>\n",
              "    </tr>\n",
              "    <tr>\n",
              "      <th>1</th>\n",
              "      <td>1</td>\n",
              "      <td>Jump.</td>\n",
              "      <td>language</td>\n",
              "    </tr>\n",
              "    <tr>\n",
              "      <th>2</th>\n",
              "      <td>2</td>\n",
              "      <td>Jump.</td>\n",
              "      <td>language</td>\n",
              "    </tr>\n",
              "    <tr>\n",
              "      <th>3</th>\n",
              "      <td>3</td>\n",
              "      <td>Jump.</td>\n",
              "      <td>language</td>\n",
              "    </tr>\n",
              "    <tr>\n",
              "      <th>4</th>\n",
              "      <td>4</td>\n",
              "      <td>Hello!</td>\n",
              "      <td>language</td>\n",
              "    </tr>\n",
              "  </tbody>\n",
              "</table>\n",
              "</div>"
            ],
            "text/plain": [
              "   index       0 language_type\n",
              "0      0   Help!      language\n",
              "1      1   Jump.      language\n",
              "2      2   Jump.      language\n",
              "3      3   Jump.      language\n",
              "4      4  Hello!      language"
            ]
          },
          "metadata": {
            "tags": []
          },
          "execution_count": 100
        }
      ]
    },
    {
      "cell_type": "code",
      "metadata": {
        "colab": {
          "base_uri": "https://localhost:8080/",
          "height": 289
        },
        "id": "6tMEHEw4i0Mc",
        "outputId": "75e06ebe-22ea-47e7-926d-e6bc80a50415"
      },
      "source": [
        "data2['language_type'].loc[0:2868]='english'\r\n",
        "data2.head()"
      ],
      "execution_count": null,
      "outputs": [
        {
          "output_type": "stream",
          "text": [
            "/usr/local/lib/python3.7/dist-packages/pandas/core/indexing.py:670: SettingWithCopyWarning: \n",
            "A value is trying to be set on a copy of a slice from a DataFrame\n",
            "\n",
            "See the caveats in the documentation: https://pandas.pydata.org/pandas-docs/stable/user_guide/indexing.html#returning-a-view-versus-a-copy\n",
            "  iloc._setitem_with_indexer(indexer, value)\n"
          ],
          "name": "stderr"
        },
        {
          "output_type": "execute_result",
          "data": {
            "text/html": [
              "<div>\n",
              "<style scoped>\n",
              "    .dataframe tbody tr th:only-of-type {\n",
              "        vertical-align: middle;\n",
              "    }\n",
              "\n",
              "    .dataframe tbody tr th {\n",
              "        vertical-align: top;\n",
              "    }\n",
              "\n",
              "    .dataframe thead th {\n",
              "        text-align: right;\n",
              "    }\n",
              "</style>\n",
              "<table border=\"1\" class=\"dataframe\">\n",
              "  <thead>\n",
              "    <tr style=\"text-align: right;\">\n",
              "      <th></th>\n",
              "      <th>index</th>\n",
              "      <th>0</th>\n",
              "      <th>language_type</th>\n",
              "    </tr>\n",
              "  </thead>\n",
              "  <tbody>\n",
              "    <tr>\n",
              "      <th>0</th>\n",
              "      <td>0</td>\n",
              "      <td>Help!</td>\n",
              "      <td>english</td>\n",
              "    </tr>\n",
              "    <tr>\n",
              "      <th>1</th>\n",
              "      <td>1</td>\n",
              "      <td>Jump.</td>\n",
              "      <td>english</td>\n",
              "    </tr>\n",
              "    <tr>\n",
              "      <th>2</th>\n",
              "      <td>2</td>\n",
              "      <td>Jump.</td>\n",
              "      <td>english</td>\n",
              "    </tr>\n",
              "    <tr>\n",
              "      <th>3</th>\n",
              "      <td>3</td>\n",
              "      <td>Jump.</td>\n",
              "      <td>english</td>\n",
              "    </tr>\n",
              "    <tr>\n",
              "      <th>4</th>\n",
              "      <td>4</td>\n",
              "      <td>Hello!</td>\n",
              "      <td>english</td>\n",
              "    </tr>\n",
              "  </tbody>\n",
              "</table>\n",
              "</div>"
            ],
            "text/plain": [
              "   index       0 language_type\n",
              "0      0   Help!       english\n",
              "1      1   Jump.       english\n",
              "2      2   Jump.       english\n",
              "3      3   Jump.       english\n",
              "4      4  Hello!       english"
            ]
          },
          "metadata": {
            "tags": []
          },
          "execution_count": 101
        }
      ]
    },
    {
      "cell_type": "code",
      "metadata": {
        "colab": {
          "base_uri": "https://localhost:8080/",
          "height": 289
        },
        "id": "ZrPasiiYjMqL",
        "outputId": "71ca6eb0-208e-491c-d282-bca80167d4b2"
      },
      "source": [
        "data2['language_type'].loc[2869:5738]='hindi'\r\n",
        "data2.head()"
      ],
      "execution_count": null,
      "outputs": [
        {
          "output_type": "stream",
          "text": [
            "/usr/local/lib/python3.7/dist-packages/pandas/core/indexing.py:670: SettingWithCopyWarning: \n",
            "A value is trying to be set on a copy of a slice from a DataFrame\n",
            "\n",
            "See the caveats in the documentation: https://pandas.pydata.org/pandas-docs/stable/user_guide/indexing.html#returning-a-view-versus-a-copy\n",
            "  iloc._setitem_with_indexer(indexer, value)\n"
          ],
          "name": "stderr"
        },
        {
          "output_type": "execute_result",
          "data": {
            "text/html": [
              "<div>\n",
              "<style scoped>\n",
              "    .dataframe tbody tr th:only-of-type {\n",
              "        vertical-align: middle;\n",
              "    }\n",
              "\n",
              "    .dataframe tbody tr th {\n",
              "        vertical-align: top;\n",
              "    }\n",
              "\n",
              "    .dataframe thead th {\n",
              "        text-align: right;\n",
              "    }\n",
              "</style>\n",
              "<table border=\"1\" class=\"dataframe\">\n",
              "  <thead>\n",
              "    <tr style=\"text-align: right;\">\n",
              "      <th></th>\n",
              "      <th>index</th>\n",
              "      <th>0</th>\n",
              "      <th>language_type</th>\n",
              "    </tr>\n",
              "  </thead>\n",
              "  <tbody>\n",
              "    <tr>\n",
              "      <th>0</th>\n",
              "      <td>0</td>\n",
              "      <td>Help!</td>\n",
              "      <td>english</td>\n",
              "    </tr>\n",
              "    <tr>\n",
              "      <th>1</th>\n",
              "      <td>1</td>\n",
              "      <td>Jump.</td>\n",
              "      <td>english</td>\n",
              "    </tr>\n",
              "    <tr>\n",
              "      <th>2</th>\n",
              "      <td>2</td>\n",
              "      <td>Jump.</td>\n",
              "      <td>english</td>\n",
              "    </tr>\n",
              "    <tr>\n",
              "      <th>3</th>\n",
              "      <td>3</td>\n",
              "      <td>Jump.</td>\n",
              "      <td>english</td>\n",
              "    </tr>\n",
              "    <tr>\n",
              "      <th>4</th>\n",
              "      <td>4</td>\n",
              "      <td>Hello!</td>\n",
              "      <td>english</td>\n",
              "    </tr>\n",
              "  </tbody>\n",
              "</table>\n",
              "</div>"
            ],
            "text/plain": [
              "   index       0 language_type\n",
              "0      0   Help!       english\n",
              "1      1   Jump.       english\n",
              "2      2   Jump.       english\n",
              "3      3   Jump.       english\n",
              "4      4  Hello!       english"
            ]
          },
          "metadata": {
            "tags": []
          },
          "execution_count": 102
        }
      ]
    },
    {
      "cell_type": "code",
      "metadata": {
        "colab": {
          "base_uri": "https://localhost:8080/"
        },
        "id": "v0fOVJ3HjlOs",
        "outputId": "c03e1604-c7f9-400c-b3e8-dc206ce1eea9"
      },
      "source": [
        "data2['language_type'].value_counts()"
      ],
      "execution_count": null,
      "outputs": [
        {
          "output_type": "execute_result",
          "data": {
            "text/plain": [
              "english    2869\n",
              "hindi      2869\n",
              "Name: language_type, dtype: int64"
            ]
          },
          "metadata": {
            "tags": []
          },
          "execution_count": 103
        }
      ]
    },
    {
      "cell_type": "code",
      "metadata": {
        "colab": {
          "base_uri": "https://localhost:8080/",
          "height": 202
        },
        "id": "6lgkReiVjqej",
        "outputId": "fc5adf34-be9b-41a3-c521-4ae3a3fc3970"
      },
      "source": [
        "data2.drop(['index'],axis=1,inplace=True)\r\n",
        "data2.head()"
      ],
      "execution_count": null,
      "outputs": [
        {
          "output_type": "execute_result",
          "data": {
            "text/html": [
              "<div>\n",
              "<style scoped>\n",
              "    .dataframe tbody tr th:only-of-type {\n",
              "        vertical-align: middle;\n",
              "    }\n",
              "\n",
              "    .dataframe tbody tr th {\n",
              "        vertical-align: top;\n",
              "    }\n",
              "\n",
              "    .dataframe thead th {\n",
              "        text-align: right;\n",
              "    }\n",
              "</style>\n",
              "<table border=\"1\" class=\"dataframe\">\n",
              "  <thead>\n",
              "    <tr style=\"text-align: right;\">\n",
              "      <th></th>\n",
              "      <th>0</th>\n",
              "      <th>language_type</th>\n",
              "    </tr>\n",
              "  </thead>\n",
              "  <tbody>\n",
              "    <tr>\n",
              "      <th>0</th>\n",
              "      <td>Help!</td>\n",
              "      <td>english</td>\n",
              "    </tr>\n",
              "    <tr>\n",
              "      <th>1</th>\n",
              "      <td>Jump.</td>\n",
              "      <td>english</td>\n",
              "    </tr>\n",
              "    <tr>\n",
              "      <th>2</th>\n",
              "      <td>Jump.</td>\n",
              "      <td>english</td>\n",
              "    </tr>\n",
              "    <tr>\n",
              "      <th>3</th>\n",
              "      <td>Jump.</td>\n",
              "      <td>english</td>\n",
              "    </tr>\n",
              "    <tr>\n",
              "      <th>4</th>\n",
              "      <td>Hello!</td>\n",
              "      <td>english</td>\n",
              "    </tr>\n",
              "  </tbody>\n",
              "</table>\n",
              "</div>"
            ],
            "text/plain": [
              "        0 language_type\n",
              "0   Help!       english\n",
              "1   Jump.       english\n",
              "2   Jump.       english\n",
              "3   Jump.       english\n",
              "4  Hello!       english"
            ]
          },
          "metadata": {
            "tags": []
          },
          "execution_count": 104
        }
      ]
    },
    {
      "cell_type": "code",
      "metadata": {
        "colab": {
          "base_uri": "https://localhost:8080/",
          "height": 202
        },
        "id": "Y6spllyruxOV",
        "outputId": "81a2ae90-f3cf-4e3c-9178-ea87b43db1a3"
      },
      "source": [
        "columns=['languages','language_type']\r\n",
        "data2.columns=columns\r\n",
        "data2.head()"
      ],
      "execution_count": null,
      "outputs": [
        {
          "output_type": "execute_result",
          "data": {
            "text/html": [
              "<div>\n",
              "<style scoped>\n",
              "    .dataframe tbody tr th:only-of-type {\n",
              "        vertical-align: middle;\n",
              "    }\n",
              "\n",
              "    .dataframe tbody tr th {\n",
              "        vertical-align: top;\n",
              "    }\n",
              "\n",
              "    .dataframe thead th {\n",
              "        text-align: right;\n",
              "    }\n",
              "</style>\n",
              "<table border=\"1\" class=\"dataframe\">\n",
              "  <thead>\n",
              "    <tr style=\"text-align: right;\">\n",
              "      <th></th>\n",
              "      <th>languages</th>\n",
              "      <th>language_type</th>\n",
              "    </tr>\n",
              "  </thead>\n",
              "  <tbody>\n",
              "    <tr>\n",
              "      <th>0</th>\n",
              "      <td>Help!</td>\n",
              "      <td>english</td>\n",
              "    </tr>\n",
              "    <tr>\n",
              "      <th>1</th>\n",
              "      <td>Jump.</td>\n",
              "      <td>english</td>\n",
              "    </tr>\n",
              "    <tr>\n",
              "      <th>2</th>\n",
              "      <td>Jump.</td>\n",
              "      <td>english</td>\n",
              "    </tr>\n",
              "    <tr>\n",
              "      <th>3</th>\n",
              "      <td>Jump.</td>\n",
              "      <td>english</td>\n",
              "    </tr>\n",
              "    <tr>\n",
              "      <th>4</th>\n",
              "      <td>Hello!</td>\n",
              "      <td>english</td>\n",
              "    </tr>\n",
              "  </tbody>\n",
              "</table>\n",
              "</div>"
            ],
            "text/plain": [
              "  languages language_type\n",
              "0     Help!       english\n",
              "1     Jump.       english\n",
              "2     Jump.       english\n",
              "3     Jump.       english\n",
              "4    Hello!       english"
            ]
          },
          "metadata": {
            "tags": []
          },
          "execution_count": 105
        }
      ]
    },
    {
      "cell_type": "code",
      "metadata": {
        "colab": {
          "base_uri": "https://localhost:8080/",
          "height": 202
        },
        "id": "c-h-LaOfvBf1",
        "outputId": "fbcc5a4c-c9ee-40f1-c709-bca7079a512f"
      },
      "source": [
        "mapping={'english': 0, 'hindi': 1}\r\n",
        "data2['language_type']=data2['language_type'].apply(lambda x: 0 if x=='english' else 1)\r\n",
        "data2.head()\r\n"
      ],
      "execution_count": null,
      "outputs": [
        {
          "output_type": "execute_result",
          "data": {
            "text/html": [
              "<div>\n",
              "<style scoped>\n",
              "    .dataframe tbody tr th:only-of-type {\n",
              "        vertical-align: middle;\n",
              "    }\n",
              "\n",
              "    .dataframe tbody tr th {\n",
              "        vertical-align: top;\n",
              "    }\n",
              "\n",
              "    .dataframe thead th {\n",
              "        text-align: right;\n",
              "    }\n",
              "</style>\n",
              "<table border=\"1\" class=\"dataframe\">\n",
              "  <thead>\n",
              "    <tr style=\"text-align: right;\">\n",
              "      <th></th>\n",
              "      <th>languages</th>\n",
              "      <th>language_type</th>\n",
              "    </tr>\n",
              "  </thead>\n",
              "  <tbody>\n",
              "    <tr>\n",
              "      <th>0</th>\n",
              "      <td>Help!</td>\n",
              "      <td>0</td>\n",
              "    </tr>\n",
              "    <tr>\n",
              "      <th>1</th>\n",
              "      <td>Jump.</td>\n",
              "      <td>0</td>\n",
              "    </tr>\n",
              "    <tr>\n",
              "      <th>2</th>\n",
              "      <td>Jump.</td>\n",
              "      <td>0</td>\n",
              "    </tr>\n",
              "    <tr>\n",
              "      <th>3</th>\n",
              "      <td>Jump.</td>\n",
              "      <td>0</td>\n",
              "    </tr>\n",
              "    <tr>\n",
              "      <th>4</th>\n",
              "      <td>Hello!</td>\n",
              "      <td>0</td>\n",
              "    </tr>\n",
              "  </tbody>\n",
              "</table>\n",
              "</div>"
            ],
            "text/plain": [
              "  languages  language_type\n",
              "0     Help!              0\n",
              "1     Jump.              0\n",
              "2     Jump.              0\n",
              "3     Jump.              0\n",
              "4    Hello!              0"
            ]
          },
          "metadata": {
            "tags": []
          },
          "execution_count": 106
        }
      ]
    },
    {
      "cell_type": "code",
      "metadata": {
        "colab": {
          "base_uri": "https://localhost:8080/"
        },
        "id": "xGuNgSBmy-Q1",
        "outputId": "634171a9-0761-41b1-d8ad-b30489b5b661"
      },
      "source": [
        "data2['language_type'].value_counts()"
      ],
      "execution_count": null,
      "outputs": [
        {
          "output_type": "execute_result",
          "data": {
            "text/plain": [
              "1    2869\n",
              "0    2869\n",
              "Name: language_type, dtype: int64"
            ]
          },
          "metadata": {
            "tags": []
          },
          "execution_count": 107
        }
      ]
    },
    {
      "cell_type": "code",
      "metadata": {
        "colab": {
          "base_uri": "https://localhost:8080/"
        },
        "id": "yVOx20H3woAv",
        "outputId": "43a67670-3c9a-4245-9476-04563cae74a8"
      },
      "source": [
        "import string\r\n",
        "for char in string.punctuation:\r\n",
        "    print(char, end=' ')\r\n",
        "    "
      ],
      "execution_count": null,
      "outputs": [
        {
          "output_type": "stream",
          "text": [
            "! \" # $ % & ' ( ) * + , - . / : ; < = > ? @ [ \\ ] ^ _ ` { | } ~ "
          ],
          "name": "stdout"
        }
      ]
    },
    {
      "cell_type": "markdown",
      "metadata": {
        "id": "xaXMk2pZxiEt"
      },
      "source": [
        "Cleaning of the whole data "
      ]
    },
    {
      "cell_type": "code",
      "metadata": {
        "id": "DyPeRwGnxQTN"
      },
      "source": [
        "def clean_text(doc):\r\n",
        "  tokens = doc.split()\r\n",
        "  table = str.maketrans('', '', string.punctuation)  \r\n",
        "  tokens = [w.translate(table) for w in tokens]\r\n",
        "  tokens = [word.lower() for word in tokens]\r\n",
        "  sentence=' '.join(tokens)\r\n",
        "  return sentence"
      ],
      "execution_count": null,
      "outputs": []
    },
    {
      "cell_type": "code",
      "metadata": {
        "colab": {
          "base_uri": "https://localhost:8080/"
        },
        "id": "dkKZFfgyx77V",
        "outputId": "4f86de40-2192-438b-d510-7d2b19da20dc"
      },
      "source": [
        "x='i am a ! tejpal kumwat/....'\r\n",
        "y=clean_text(x)\r\n",
        "print(y)"
      ],
      "execution_count": null,
      "outputs": [
        {
          "output_type": "stream",
          "text": [
            "i am a  tejpal kumwat\n"
          ],
          "name": "stdout"
        }
      ]
    },
    {
      "cell_type": "code",
      "metadata": {
        "colab": {
          "base_uri": "https://localhost:8080/",
          "height": 202
        },
        "id": "M_u5bs5JyHM1",
        "outputId": "df76973f-d0c3-4267-bd64-4ffe5ec0bb21"
      },
      "source": [
        "data2['languages']=data2['languages'].apply(lambda x: clean_text(x))\r\n",
        "data2.tail()"
      ],
      "execution_count": null,
      "outputs": [
        {
          "output_type": "execute_result",
          "data": {
            "text/html": [
              "<div>\n",
              "<style scoped>\n",
              "    .dataframe tbody tr th:only-of-type {\n",
              "        vertical-align: middle;\n",
              "    }\n",
              "\n",
              "    .dataframe tbody tr th {\n",
              "        vertical-align: top;\n",
              "    }\n",
              "\n",
              "    .dataframe thead th {\n",
              "        text-align: right;\n",
              "    }\n",
              "</style>\n",
              "<table border=\"1\" class=\"dataframe\">\n",
              "  <thead>\n",
              "    <tr style=\"text-align: right;\">\n",
              "      <th></th>\n",
              "      <th>languages</th>\n",
              "      <th>language_type</th>\n",
              "    </tr>\n",
              "  </thead>\n",
              "  <tbody>\n",
              "    <tr>\n",
              "      <th>5733</th>\n",
              "      <td>जिन यात्रियों को दुर्घटना मे चोट आई थी उन्हे अ...</td>\n",
              "      <td>1</td>\n",
              "    </tr>\n",
              "    <tr>\n",
              "      <th>5734</th>\n",
              "      <td>लोकतंत्र सरकार का सबसे घिनौना रूप है अगर बाकी ...</td>\n",
              "      <td>1</td>\n",
              "    </tr>\n",
              "    <tr>\n",
              "      <th>5735</th>\n",
              "      <td>अगर मेरा बेटा ट्रेफ़िक हादसे में नहीं मारा गया...</td>\n",
              "      <td>1</td>\n",
              "    </tr>\n",
              "    <tr>\n",
              "      <th>5736</th>\n",
              "      <td>जब मैं बच्चा था मुझे कीड़ों को छूने से कोई परे...</td>\n",
              "      <td>1</td>\n",
              "    </tr>\n",
              "    <tr>\n",
              "      <th>5737</th>\n",
              "      <td>आप जिस वाक्य का अनुवाद कर रहे हैं उस ही का अच्...</td>\n",
              "      <td>1</td>\n",
              "    </tr>\n",
              "  </tbody>\n",
              "</table>\n",
              "</div>"
            ],
            "text/plain": [
              "                                              languages  language_type\n",
              "5733  जिन यात्रियों को दुर्घटना मे चोट आई थी उन्हे अ...              1\n",
              "5734  लोकतंत्र सरकार का सबसे घिनौना रूप है अगर बाकी ...              1\n",
              "5735  अगर मेरा बेटा ट्रेफ़िक हादसे में नहीं मारा गया...              1\n",
              "5736  जब मैं बच्चा था मुझे कीड़ों को छूने से कोई परे...              1\n",
              "5737  आप जिस वाक्य का अनुवाद कर रहे हैं उस ही का अच्...              1"
            ]
          },
          "metadata": {
            "tags": []
          },
          "execution_count": 111
        }
      ]
    },
    {
      "cell_type": "code",
      "metadata": {
        "colab": {
          "base_uri": "https://localhost:8080/",
          "height": 237
        },
        "id": "D_gHdzxByobE",
        "outputId": "909364af-c053-44f5-e54e-308f17ac918d"
      },
      "source": [
        "# shuffle the DataFrame rows \r\n",
        "data2 = data2.sample(frac = 1) \r\n",
        "  \r\n",
        "# print the shuffled DataFrame \r\n",
        "print(\"\\nShuffled DataFrame:\") \r\n",
        "data2.head()"
      ],
      "execution_count": null,
      "outputs": [
        {
          "output_type": "stream",
          "text": [
            "\n",
            "Shuffled DataFrame:\n"
          ],
          "name": "stdout"
        },
        {
          "output_type": "execute_result",
          "data": {
            "text/html": [
              "<div>\n",
              "<style scoped>\n",
              "    .dataframe tbody tr th:only-of-type {\n",
              "        vertical-align: middle;\n",
              "    }\n",
              "\n",
              "    .dataframe tbody tr th {\n",
              "        vertical-align: top;\n",
              "    }\n",
              "\n",
              "    .dataframe thead th {\n",
              "        text-align: right;\n",
              "    }\n",
              "</style>\n",
              "<table border=\"1\" class=\"dataframe\">\n",
              "  <thead>\n",
              "    <tr style=\"text-align: right;\">\n",
              "      <th></th>\n",
              "      <th>languages</th>\n",
              "      <th>language_type</th>\n",
              "    </tr>\n",
              "  </thead>\n",
              "  <tbody>\n",
              "    <tr>\n",
              "      <th>1562</th>\n",
              "      <td>i have a bone to pick with you</td>\n",
              "      <td>0</td>\n",
              "    </tr>\n",
              "    <tr>\n",
              "      <th>564</th>\n",
              "      <td>ill admit im wrong</td>\n",
              "      <td>0</td>\n",
              "    </tr>\n",
              "    <tr>\n",
              "      <th>2508</th>\n",
              "      <td>the thief cursed the police for finding him</td>\n",
              "      <td>0</td>\n",
              "    </tr>\n",
              "    <tr>\n",
              "      <th>3118</th>\n",
              "      <td>मज़े करो।</td>\n",
              "      <td>1</td>\n",
              "    </tr>\n",
              "    <tr>\n",
              "      <th>389</th>\n",
              "      <td>i still dont know</td>\n",
              "      <td>0</td>\n",
              "    </tr>\n",
              "  </tbody>\n",
              "</table>\n",
              "</div>"
            ],
            "text/plain": [
              "                                        languages  language_type\n",
              "1562               i have a bone to pick with you              0\n",
              "564                            ill admit im wrong              0\n",
              "2508  the thief cursed the police for finding him              0\n",
              "3118                                    मज़े करो।              1\n",
              "389                             i still dont know              0"
            ]
          },
          "metadata": {
            "tags": []
          },
          "execution_count": 112
        }
      ]
    },
    {
      "cell_type": "code",
      "metadata": {
        "id": "UITiaT8ezYL9"
      },
      "source": [
        "x=data2['languages']\r\n",
        "y=data2['language_type']\r\n"
      ],
      "execution_count": null,
      "outputs": []
    },
    {
      "cell_type": "code",
      "metadata": {
        "id": "8iKRqvWczKed"
      },
      "source": [
        "from sklearn.model_selection import train_test_split\r\n",
        "x_train,x_test,y_train,y_test=train_test_split(x,y,test_size=0.2,random_state=0)"
      ],
      "execution_count": null,
      "outputs": []
    },
    {
      "cell_type": "code",
      "metadata": {
        "colab": {
          "base_uri": "https://localhost:8080/"
        },
        "id": "tMJDgt67yXdl",
        "outputId": "3bb9f8b8-f5b3-418c-a260-9c093c8dc2ab"
      },
      "source": [
        "from sklearn.feature_extraction.text import CountVectorizer,TfidfVectorizer\r\n",
        "cv=CountVectorizer(5000)\r\n",
        "x_trained=cv.fit_transform(x_train).toarray()\r\n",
        "\r\n",
        "print(x_trained.shape)\r\n",
        "print(y_train.shape)\r\n",
        "\r\n",
        "\r\n",
        "\r\n",
        "x_tested=cv.transform(x_test).toarray()\r\n",
        "print(x_tested.shape)\r\n",
        "\r\n"
      ],
      "execution_count": null,
      "outputs": [
        {
          "output_type": "stream",
          "text": [
            "(4590, 2781)\n",
            "(4590,)\n",
            "(1148, 2781)\n"
          ],
          "name": "stdout"
        }
      ]
    },
    {
      "cell_type": "code",
      "metadata": {
        "id": "BUcvkswH2AMW"
      },
      "source": [
        "from sklearn.linear_model import LogisticRegression\r\n",
        "lr=LogisticRegression()\r\n",
        "#model=lr.fit(x_trained,y_train)"
      ],
      "execution_count": null,
      "outputs": []
    },
    {
      "cell_type": "code",
      "metadata": {
        "id": "35YQIfTD2mu-"
      },
      "source": [
        "from sklearn.metrics import accuracy_score,confusion_matrix\r\n",
        "#y_pred=model.predict(x_tested)\r\n",
        "#print('accuracy of the model is {}'.format(accuracy_score(y_test,y_pred)))\r\n",
        "#print('Confusion matrix of the model is {}'.format(confusion_matrix(y_test,y_pred)))"
      ],
      "execution_count": null,
      "outputs": []
    },
    {
      "cell_type": "markdown",
      "metadata": {
        "id": "oJPkZsWE3SGs"
      },
      "source": [
        "Now we will predict the language type for any general text of hindi and english"
      ]
    },
    {
      "cell_type": "markdown",
      "metadata": {
        "id": "P36WG3mUtIaQ"
      },
      "source": [
        "Saving the model"
      ]
    },
    {
      "cell_type": "code",
      "metadata": {
        "id": "tYeZgvtstKO0"
      },
      "source": [
        "#import pickle\r\n",
        "#pickle.dump(model,open('language_detection.pkl','wb'))"
      ],
      "execution_count": null,
      "outputs": []
    },
    {
      "cell_type": "code",
      "metadata": {
        "id": "uZSV0R0R3OIG"
      },
      "source": [
        "\r\n",
        "def predict_language(input):\r\n",
        "    def clean_text(input):\r\n",
        "      tokens = input.split()\r\n",
        "      table = str.maketrans('', '', string.punctuation)  \r\n",
        "      tokens = [w.translate(table) for w in tokens]\r\n",
        "      tokens = [word.lower() for word in tokens]\r\n",
        "      sentence=' '.join(tokens)\r\n",
        "      return sentence\r\n",
        "    model1=pickle.load(open('/content/language_detection.pkl','rb'))  \r\n",
        "    \r\n",
        "    predict=model1.predict([[clean_text(input)]])\r\n",
        "\r\n",
        "    return predict\r\n",
        "\r\n",
        "\r\n",
        "    "
      ],
      "execution_count": null,
      "outputs": []
    },
    {
      "cell_type": "markdown",
      "metadata": {
        "id": "nwERvWou85Ci"
      },
      "source": [
        "Word Embedding"
      ]
    },
    {
      "cell_type": "code",
      "metadata": {
        "id": "6zCiT13d9NKC"
      },
      "source": [
        "import tensorflow as tf\r\n",
        "from tensorflow.keras.layers import Embedding,Dropout\r\n",
        "from tensorflow.keras.preprocessing.sequence import pad_sequences\r\n",
        "from tensorflow.keras.models import Sequential\r\n",
        "from tensorflow.keras.preprocessing.text import one_hot\r\n",
        "from tensorflow.keras.layers import LSTM\r\n",
        "from tensorflow.keras.layers import Dense"
      ],
      "execution_count": null,
      "outputs": []
    },
    {
      "cell_type": "code",
      "metadata": {
        "colab": {
          "base_uri": "https://localhost:8080/"
        },
        "id": "oqA69jbC84ny",
        "outputId": "1a0b78ba-e3e4-4936-c1b1-4c218709200d"
      },
      "source": [
        "voc_size=30000\r\n",
        "onehot_repr=[one_hot(words,voc_size)for words in data2['languages']] \r\n",
        "onehot_repr\r\n",
        "\r\n",
        "sent_length=20\r\n",
        "\r\n",
        "embedded_docs=pad_sequences(onehot_repr,padding='pre',maxlen=sent_length)\r\n",
        "print(embedded_docs)"
      ],
      "execution_count": null,
      "outputs": [
        {
          "output_type": "stream",
          "text": [
            "[[    0     0     0 ... 10456 19187 21119]\n",
            " [    0     0     0 ...  5601  3698  1288]\n",
            " [    0     0     0 ... 12153 19488  5082]\n",
            " ...\n",
            " [    0     0     0 ... 18891  2375 26396]\n",
            " [    0     0     0 ...  7577  7287 13153]\n",
            " [    0     0     0 ... 22235  6194 16198]]\n"
          ],
          "name": "stdout"
        }
      ]
    },
    {
      "cell_type": "code",
      "metadata": {
        "id": "KojmOkILSC4o"
      },
      "source": [
        "#text=['my name is tejpal kumawat']\r\n",
        "#voc_size=30000\r\n",
        "#onehot_repr=[one_hot(words,voc_size)for words in text]\r\n",
        "#onehot_repr\r\n",
        "\r\n",
        "#sent_length=20\r\n",
        "\r\n",
        "#embedded_docs=pad_sequences(onehot_repr,padding='pre',maxlen=sent_length)\r\n",
        "#print(embedded_docs)\r\n"
      ],
      "execution_count": null,
      "outputs": []
    },
    {
      "cell_type": "code",
      "metadata": {
        "colab": {
          "base_uri": "https://localhost:8080/"
        },
        "id": "CASAWtME84la",
        "outputId": "14c78772-7658-4276-c9af-8d808923be45"
      },
      "source": [
        "embedded_docs.shape"
      ],
      "execution_count": null,
      "outputs": [
        {
          "output_type": "execute_result",
          "data": {
            "text/plain": [
              "(5738, 20)"
            ]
          },
          "metadata": {
            "tags": []
          },
          "execution_count": 123
        }
      ]
    },
    {
      "cell_type": "code",
      "metadata": {
        "colab": {
          "base_uri": "https://localhost:8080/"
        },
        "id": "Z01TDqQU84iy",
        "outputId": "5ef5ed43-1485-4d80-b3ba-bb054bc3561b"
      },
      "source": [
        "import numpy as np\r\n",
        "X_final=np.array(embedded_docs)\r\n",
        "y_final=np.array(data2['language_type'])\r\n",
        "\r\n",
        "print(X_final.shape,y_final.shape)\r\n",
        "\r\n",
        "\r\n",
        "from sklearn.model_selection import train_test_split\r\n",
        "X_train, X_test, y_train, y_test = train_test_split(X_final, y_final, test_size=0.33, random_state=42)"
      ],
      "execution_count": null,
      "outputs": [
        {
          "output_type": "stream",
          "text": [
            "(5738, 20) (5738,)\n"
          ],
          "name": "stdout"
        }
      ]
    },
    {
      "cell_type": "code",
      "metadata": {
        "colab": {
          "base_uri": "https://localhost:8080/"
        },
        "id": "yXOUjMq79yWT",
        "outputId": "23fd1087-9a98-4c98-f10d-cf33e90a6dab"
      },
      "source": [
        "embed_dim = 128\r\n",
        "lstm_out = 200\r\n",
        "batch_size = 32\r\n",
        "\r\n",
        "model = Sequential()\r\n",
        "model.add(Embedding(voc_size, embed_dim,input_length = X_train.shape[1]))\r\n",
        "model.add(LSTM(lstm_out)) \r\n",
        "model.add(Dense(1,activation='sigmoid'))\r\n",
        "model.compile(loss = 'binary_crossentropy', optimizer='adam',metrics = ['accuracy'])\r\n",
        "print(model.summary())\r\n",
        "\r\n"
      ],
      "execution_count": null,
      "outputs": [
        {
          "output_type": "stream",
          "text": [
            "Model: \"sequential_2\"\n",
            "_________________________________________________________________\n",
            "Layer (type)                 Output Shape              Param #   \n",
            "=================================================================\n",
            "embedding_2 (Embedding)      (None, 20, 128)           3840000   \n",
            "_________________________________________________________________\n",
            "lstm_2 (LSTM)                (None, 200)               263200    \n",
            "_________________________________________________________________\n",
            "dense_2 (Dense)              (None, 1)                 201       \n",
            "=================================================================\n",
            "Total params: 4,103,401\n",
            "Trainable params: 4,103,401\n",
            "Non-trainable params: 0\n",
            "_________________________________________________________________\n",
            "None\n"
          ],
          "name": "stdout"
        }
      ]
    },
    {
      "cell_type": "code",
      "metadata": {
        "colab": {
          "base_uri": "https://localhost:8080/"
        },
        "id": "Et3DRkPJ91Oq",
        "outputId": "5539f233-da4a-4613-c342-48ac17856209"
      },
      "source": [
        "model.fit(X_train,y_train,validation_data=(X_test,y_test),epochs=10,batch_size=64)"
      ],
      "execution_count": null,
      "outputs": [
        {
          "output_type": "stream",
          "text": [
            "Epoch 1/10\n",
            "61/61 [==============================] - 11s 144ms/step - loss: 0.5018 - accuracy: 0.7756 - val_loss: 0.0966 - val_accuracy: 0.9931\n",
            "Epoch 2/10\n",
            "61/61 [==============================] - 8s 136ms/step - loss: 0.0509 - accuracy: 0.9968 - val_loss: 0.0174 - val_accuracy: 0.9942\n",
            "Epoch 3/10\n",
            "61/61 [==============================] - 8s 137ms/step - loss: 0.0078 - accuracy: 0.9990 - val_loss: 0.0117 - val_accuracy: 0.9974\n",
            "Epoch 4/10\n",
            "61/61 [==============================] - 8s 139ms/step - loss: 0.0055 - accuracy: 0.9989 - val_loss: 0.0091 - val_accuracy: 0.9958\n",
            "Epoch 5/10\n",
            "61/61 [==============================] - 8s 137ms/step - loss: 0.0031 - accuracy: 0.9992 - val_loss: 0.0129 - val_accuracy: 0.9952\n",
            "Epoch 6/10\n",
            "61/61 [==============================] - 8s 136ms/step - loss: 0.0038 - accuracy: 0.9993 - val_loss: 0.0081 - val_accuracy: 0.9952\n",
            "Epoch 7/10\n",
            "61/61 [==============================] - 8s 138ms/step - loss: 0.0013 - accuracy: 1.0000 - val_loss: 0.0079 - val_accuracy: 0.9958\n",
            "Epoch 8/10\n",
            "61/61 [==============================] - 8s 137ms/step - loss: 7.4768e-04 - accuracy: 1.0000 - val_loss: 0.0077 - val_accuracy: 0.9958\n",
            "Epoch 9/10\n",
            "61/61 [==============================] - 8s 136ms/step - loss: 6.5656e-04 - accuracy: 1.0000 - val_loss: 0.0116 - val_accuracy: 0.9963\n",
            "Epoch 10/10\n",
            "61/61 [==============================] - 8s 136ms/step - loss: 0.0018 - accuracy: 0.9988 - val_loss: 0.0084 - val_accuracy: 0.9952\n"
          ],
          "name": "stdout"
        },
        {
          "output_type": "execute_result",
          "data": {
            "text/plain": [
              "<tensorflow.python.keras.callbacks.History at 0x7f7186ac82d0>"
            ]
          },
          "metadata": {
            "tags": []
          },
          "execution_count": 126
        }
      ]
    },
    {
      "cell_type": "code",
      "metadata": {
        "colab": {
          "base_uri": "https://localhost:8080/"
        },
        "id": "yr8h6VvfO_Oc",
        "outputId": "9b1b59c4-1254-491b-968f-da034b51fd85"
      },
      "source": [
        "y_pred=model.predict(X_test)\r\n",
        "print(y_pred.shape)\r\n",
        "y_pred1=[]\r\n",
        "for i in range(1894):\r\n",
        "    if y_pred[i][0]>=0.5:\r\n",
        "        y_pred1.append(1)\r\n",
        "    else:\r\n",
        "        y_pred1.append(0)    \r\n",
        "print(y_pred1)\r\n",
        "from sklearn.metrics import accuracy_score\r\n",
        "print(accuracy_score(y_test,y_pred1))\r\n",
        "print(y_test)\r\n"
      ],
      "execution_count": null,
      "outputs": [
        {
          "output_type": "stream",
          "text": [
            "(1894, 1)\n",
            "[1, 0, 1, 0, 1, 0, 0, 1, 1, 1, 0, 0, 0, 0, 1, 0, 0, 1, 1, 0, 1, 1, 1, 0, 1, 1, 1, 0, 1, 1, 0, 0, 1, 0, 1, 0, 1, 0, 0, 0, 1, 0, 1, 0, 0, 0, 1, 1, 1, 1, 1, 0, 0, 0, 1, 1, 1, 1, 1, 0, 1, 0, 1, 1, 1, 1, 0, 0, 0, 0, 1, 0, 0, 1, 0, 0, 1, 1, 1, 0, 0, 0, 1, 0, 1, 0, 1, 0, 0, 1, 0, 0, 0, 1, 1, 0, 0, 0, 0, 0, 0, 1, 0, 1, 0, 0, 1, 0, 0, 0, 1, 1, 1, 0, 1, 0, 1, 1, 0, 1, 0, 1, 1, 0, 1, 0, 1, 0, 1, 0, 0, 0, 1, 0, 1, 1, 1, 0, 1, 0, 0, 1, 0, 1, 1, 0, 1, 0, 1, 1, 0, 0, 0, 1, 0, 1, 0, 1, 1, 1, 0, 0, 0, 0, 1, 0, 1, 1, 1, 1, 0, 0, 0, 0, 0, 1, 1, 1, 1, 1, 1, 1, 0, 1, 0, 0, 1, 1, 0, 1, 1, 0, 0, 1, 1, 0, 1, 0, 0, 0, 0, 0, 1, 0, 1, 0, 0, 0, 0, 1, 1, 1, 0, 0, 0, 1, 0, 1, 1, 0, 1, 0, 0, 1, 0, 1, 1, 1, 1, 1, 0, 0, 1, 0, 1, 1, 0, 0, 1, 1, 0, 1, 0, 0, 0, 1, 0, 1, 1, 1, 0, 1, 1, 1, 1, 0, 0, 1, 1, 0, 1, 0, 0, 1, 0, 1, 0, 1, 0, 0, 0, 0, 0, 1, 0, 1, 1, 0, 0, 1, 1, 1, 0, 1, 0, 1, 1, 1, 1, 0, 0, 0, 1, 0, 1, 1, 1, 1, 1, 1, 0, 0, 1, 0, 1, 0, 1, 0, 0, 1, 1, 0, 0, 0, 1, 0, 1, 1, 0, 1, 0, 1, 1, 0, 1, 1, 1, 0, 1, 1, 1, 1, 0, 1, 1, 0, 1, 1, 0, 0, 0, 1, 0, 0, 1, 1, 0, 1, 0, 1, 0, 1, 1, 1, 1, 0, 1, 0, 1, 0, 0, 0, 0, 0, 1, 1, 1, 1, 1, 1, 0, 0, 0, 0, 0, 0, 0, 0, 1, 0, 0, 0, 0, 1, 1, 1, 0, 1, 0, 0, 1, 1, 1, 0, 0, 0, 1, 0, 1, 1, 1, 0, 1, 1, 1, 1, 0, 0, 1, 1, 1, 0, 1, 0, 1, 1, 0, 1, 0, 1, 1, 0, 1, 0, 1, 1, 0, 1, 1, 0, 1, 0, 1, 1, 1, 0, 1, 1, 1, 0, 1, 1, 1, 1, 1, 1, 1, 1, 1, 1, 1, 0, 0, 1, 1, 0, 1, 0, 1, 1, 0, 0, 0, 0, 1, 0, 1, 1, 1, 0, 0, 0, 1, 1, 0, 0, 1, 1, 0, 1, 0, 1, 1, 1, 0, 1, 1, 0, 0, 1, 0, 1, 0, 1, 0, 1, 0, 0, 0, 1, 1, 0, 1, 0, 0, 0, 0, 1, 0, 1, 0, 1, 0, 0, 1, 0, 1, 1, 0, 1, 0, 1, 0, 1, 1, 0, 0, 0, 0, 1, 1, 1, 1, 1, 0, 1, 1, 1, 1, 1, 1, 0, 1, 1, 1, 0, 1, 0, 1, 1, 1, 1, 0, 1, 0, 1, 1, 1, 0, 1, 1, 1, 1, 1, 1, 1, 1, 0, 0, 1, 0, 0, 0, 0, 1, 1, 1, 1, 1, 0, 1, 0, 1, 1, 1, 1, 0, 0, 0, 0, 0, 0, 0, 1, 0, 1, 1, 1, 0, 0, 0, 0, 0, 1, 0, 0, 0, 0, 0, 1, 0, 1, 0, 1, 1, 1, 1, 0, 0, 1, 0, 0, 1, 0, 1, 0, 0, 0, 1, 1, 1, 1, 1, 0, 1, 1, 0, 1, 1, 1, 1, 1, 0, 0, 0, 1, 1, 1, 0, 0, 1, 1, 0, 1, 0, 0, 1, 0, 0, 1, 0, 0, 1, 1, 0, 0, 1, 0, 0, 1, 1, 1, 1, 0, 1, 0, 0, 0, 1, 0, 0, 0, 0, 0, 1, 0, 0, 1, 0, 1, 1, 1, 0, 0, 0, 0, 0, 1, 1, 1, 1, 0, 0, 0, 0, 1, 1, 0, 0, 0, 0, 0, 0, 1, 0, 1, 0, 1, 1, 1, 1, 0, 1, 1, 0, 1, 0, 1, 0, 1, 0, 0, 1, 0, 0, 0, 1, 1, 1, 1, 0, 1, 1, 0, 0, 1, 1, 0, 0, 0, 0, 1, 1, 1, 0, 1, 0, 0, 0, 0, 1, 0, 0, 0, 0, 0, 0, 1, 0, 1, 1, 1, 0, 0, 1, 1, 1, 1, 1, 1, 1, 0, 0, 1, 0, 0, 1, 0, 0, 1, 0, 0, 1, 0, 1, 1, 1, 1, 0, 0, 0, 0, 0, 1, 1, 1, 0, 1, 0, 0, 1, 1, 0, 0, 0, 1, 0, 1, 1, 0, 0, 0, 0, 0, 0, 1, 1, 0, 0, 1, 1, 0, 1, 0, 1, 0, 1, 0, 1, 1, 1, 1, 1, 0, 0, 1, 1, 1, 1, 0, 0, 1, 0, 0, 0, 1, 0, 0, 1, 1, 1, 1, 1, 1, 0, 1, 0, 1, 0, 1, 0, 1, 1, 1, 0, 1, 1, 0, 0, 1, 0, 0, 1, 0, 0, 1, 1, 1, 1, 1, 1, 0, 1, 0, 0, 1, 0, 1, 1, 0, 0, 1, 0, 0, 0, 0, 1, 0, 0, 0, 1, 0, 0, 0, 0, 1, 0, 0, 0, 1, 0, 0, 0, 0, 0, 1, 0, 1, 0, 0, 0, 0, 0, 0, 0, 0, 0, 1, 0, 0, 1, 1, 0, 0, 0, 0, 1, 0, 1, 1, 1, 0, 0, 0, 1, 0, 0, 1, 0, 0, 0, 0, 0, 0, 1, 0, 1, 0, 1, 0, 0, 1, 0, 1, 1, 1, 1, 1, 0, 1, 0, 0, 1, 0, 1, 0, 1, 0, 0, 1, 1, 1, 1, 1, 1, 0, 0, 0, 0, 0, 0, 1, 0, 0, 0, 0, 1, 1, 1, 0, 1, 0, 0, 1, 0, 0, 1, 1, 1, 0, 0, 0, 0, 0, 0, 1, 0, 1, 0, 0, 1, 0, 1, 1, 0, 0, 1, 1, 0, 0, 0, 1, 0, 1, 1, 0, 0, 0, 0, 1, 0, 0, 0, 1, 0, 0, 0, 0, 0, 1, 1, 0, 1, 1, 0, 1, 1, 0, 1, 1, 0, 0, 1, 1, 1, 1, 1, 1, 1, 0, 0, 1, 1, 0, 1, 0, 1, 1, 0, 1, 0, 1, 1, 0, 0, 1, 1, 1, 1, 1, 0, 0, 1, 1, 1, 0, 0, 1, 1, 0, 0, 0, 0, 0, 1, 1, 1, 1, 1, 0, 1, 0, 1, 1, 1, 0, 0, 0, 1, 0, 0, 1, 1, 1, 1, 0, 0, 1, 0, 0, 0, 0, 0, 0, 0, 0, 1, 0, 0, 0, 1, 1, 0, 1, 1, 0, 0, 1, 0, 1, 1, 0, 1, 0, 1, 0, 1, 1, 1, 0, 1, 0, 1, 1, 0, 1, 0, 0, 1, 1, 0, 0, 1, 1, 0, 1, 0, 0, 1, 0, 0, 1, 0, 0, 0, 1, 0, 1, 1, 0, 1, 0, 1, 1, 1, 0, 0, 0, 1, 1, 0, 1, 0, 1, 0, 0, 1, 0, 1, 1, 0, 1, 1, 0, 1, 1, 1, 1, 0, 0, 0, 1, 1, 0, 1, 0, 1, 0, 0, 0, 0, 1, 1, 1, 0, 1, 1, 0, 1, 0, 0, 0, 0, 1, 1, 0, 1, 0, 1, 1, 1, 0, 1, 0, 0, 0, 0, 1, 0, 1, 1, 1, 1, 0, 1, 1, 1, 1, 1, 1, 0, 0, 1, 1, 0, 1, 0, 0, 0, 0, 1, 0, 0, 0, 0, 1, 1, 0, 0, 0, 0, 0, 1, 0, 0, 1, 0, 0, 0, 0, 0, 1, 1, 0, 1, 0, 0, 1, 1, 1, 1, 1, 1, 0, 1, 0, 1, 1, 1, 1, 1, 0, 0, 0, 0, 1, 0, 1, 0, 1, 0, 1, 1, 0, 1, 1, 1, 0, 0, 1, 0, 1, 0, 1, 0, 0, 0, 1, 1, 1, 0, 1, 1, 0, 1, 0, 1, 1, 0, 0, 0, 0, 1, 0, 0, 0, 0, 0, 1, 0, 0, 0, 1, 1, 1, 0, 1, 1, 1, 1, 0, 1, 1, 0, 0, 0, 1, 1, 1, 1, 1, 0, 0, 1, 0, 0, 0, 0, 1, 1, 0, 0, 0, 0, 0, 0, 1, 0, 0, 1, 0, 0, 0, 0, 1, 0, 1, 1, 1, 1, 0, 1, 1, 0, 0, 1, 0, 1, 0, 0, 0, 1, 0, 1, 0, 0, 1, 0, 1, 0, 1, 0, 1, 1, 0, 0, 0, 1, 1, 0, 1, 1, 0, 0, 1, 0, 1, 1, 0, 1, 0, 1, 0, 1, 1, 0, 0, 0, 1, 0, 0, 0, 0, 1, 0, 0, 0, 1, 0, 1, 1, 1, 1, 0, 1, 1, 0, 1, 0, 1, 1, 0, 0, 1, 1, 0, 0, 1, 1, 1, 0, 0, 0, 1, 0, 0, 1, 1, 1, 0, 1, 0, 1, 0, 0, 1, 0, 0, 1, 0, 0, 0, 1, 0, 1, 1, 0, 0, 0, 0, 0, 0, 1, 1, 1, 0, 0, 0, 0, 1, 0, 1, 1, 0, 1, 1, 1, 0, 0, 0, 1, 0, 0, 0, 0, 1, 1, 0, 0, 0, 1, 1, 0, 1, 0, 1, 0, 1, 0, 0, 1, 1, 1, 1, 0, 1, 0, 1, 0, 0, 0, 1, 0, 0, 1, 1, 0, 0, 0, 1, 0, 1, 0, 0, 1, 0, 0, 0, 0, 1, 0, 1, 1, 0, 1, 0, 0, 0, 1, 1, 1, 1, 0, 0, 1, 0, 0, 0, 0, 0, 0, 0, 1, 0, 0, 0, 0, 1, 1, 0, 0, 0, 0, 0, 1, 0, 0, 0, 1, 1, 1, 1, 0, 1, 1, 1, 1, 0, 0, 0, 0, 0, 0, 0, 1, 1, 1, 1, 1, 1, 0, 0, 1, 1, 1, 1, 0, 0, 1, 0, 0, 1, 1, 0, 0, 1, 0, 1, 0, 1, 0, 0, 1, 1, 1, 1, 1, 1, 0, 0, 0, 0, 1, 0, 1, 0, 1, 1, 1, 1, 0, 1, 1, 1, 1, 0, 1, 1, 0, 1, 1, 0, 0, 0, 1, 1, 0, 1, 1, 1, 0, 0, 0, 1, 1, 1, 0, 0, 0, 1, 1, 0, 0, 0, 0, 1, 0, 0, 1, 1, 0, 0, 1, 0, 1, 0, 0, 1, 0, 0, 1, 0, 0, 0, 0, 1, 1, 0, 1, 1, 0, 1, 1, 1, 1, 1, 1, 1, 0, 1, 1, 1, 0, 1, 0, 1, 0, 1, 1, 0, 1, 0, 1, 0, 0, 1, 0, 1, 1, 1, 1, 0, 1, 0, 1, 0, 0, 0, 0, 1, 0, 0, 1, 1, 1, 0, 0, 0, 0, 1, 1, 1, 1, 0, 1, 0, 1, 1, 1, 0, 1, 1, 1, 1, 1, 1, 0, 1, 1, 1, 0, 0, 1, 0, 0, 1, 0, 1, 0, 0, 0, 1, 1, 1, 0, 1, 0, 1, 0, 1, 0, 0, 0, 0, 0, 0, 1, 1, 0, 1, 1, 0, 0, 0, 1, 0, 1, 0, 1, 0, 0, 1, 0, 0, 1, 0, 0, 1, 0, 0, 1, 1, 1, 0]\n",
            "0.9952481520591341\n",
            "[1 0 1 ... 1 1 0]\n"
          ],
          "name": "stdout"
        }
      ]
    },
    {
      "cell_type": "code",
      "metadata": {
        "id": "Af7ha2QW-asd"
      },
      "source": [
        "from keras.models import load_model\r\n",
        "\r\n",
        "model.save('my_model.h5')  # creates a HDF5 file 'my_model.h5'\r\n",
        "del model  # deletes the existing model\r\n",
        "\r\n",
        "# returns a compiled model\r\n",
        "# identical to the previous one\r\n",
        "model = load_model('my_model.h5')"
      ],
      "execution_count": null,
      "outputs": []
    },
    {
      "cell_type": "code",
      "metadata": {
        "colab": {
          "base_uri": "https://localhost:8080/"
        },
        "id": "7ryxlxTT-ap6",
        "outputId": "05589ede-47b7-47f7-9175-7005cb4ec6c3"
      },
      "source": [
        "#model=load_model('Spam_classifier.h5',compile=False)\r\n",
        "\r\n",
        "#st.title('SPAM MAIL CLASSIFIER')\r\n",
        "#st.image('download.jpg',width=500)\r\n",
        "voc_size=30000\r\n",
        "sent_length = 20\r\n",
        "\r\n",
        "#st.header('Give the Input as a Mail to check whether it is a spam or not')\r\n",
        "#input=st.text_input('Write the text here')\r\n",
        "#input_data=list(input)\r\n",
        "import re\r\n",
        "def input_preprocessing(x):\r\n",
        "    corpus = []\r\n",
        "\r\n",
        "    review = re.sub('[^a-zA-z]', ' ', str(x))\r\n",
        "    review = review.lower()\r\n",
        "    review = review.split()\r\n",
        "    #review = [wnl.lemmatize(word) for word in review if not word in set(stopwords.words('english'))]\r\n",
        "    review = ' '.join(review)\r\n",
        "    corpus.append(review)\r\n",
        "\r\n",
        "    onehot_repr = [one_hot(words, voc_size) for words in corpus]\r\n",
        "\r\n",
        "\r\n",
        "    embedded_docs = pad_sequences(onehot_repr, padding='pre', maxlen=sent_length)\r\n",
        "    X=np.array(embedded_docs)\r\n",
        "    \r\n",
        "    return X\r\n",
        "input_data=['  लोग रहें ']\r\n",
        "x=input_preprocessing(input_data)\r\n",
        "prediction = model.predict(x)\r\n",
        "print(prediction) "
      ],
      "execution_count": null,
      "outputs": [
        {
          "output_type": "stream",
          "text": [
            "[[0.3551969]]\n"
          ],
          "name": "stdout"
        }
      ]
    },
    {
      "cell_type": "code",
      "metadata": {
        "colab": {
          "base_uri": "https://localhost:8080/"
        },
        "id": "JVn9vrfN-ami",
        "outputId": "35ee7368-b43c-4a76-b0ee-0a50cca166d7"
      },
      "source": [
        "\r\n",
        "import numpy as np\r\n",
        "if prediction[0][0] >=0.5:\r\n",
        "    print('language is hindi')\r\n",
        "else:\r\n",
        "    print('language is english')        "
      ],
      "execution_count": null,
      "outputs": [
        {
          "output_type": "stream",
          "text": [
            "language is english\n"
          ],
          "name": "stdout"
        }
      ]
    },
    {
      "cell_type": "code",
      "metadata": {
        "id": "B5BDFNbJ-akj"
      },
      "source": [
        ""
      ],
      "execution_count": null,
      "outputs": []
    },
    {
      "cell_type": "code",
      "metadata": {
        "id": "O5g1IS8j6B1S"
      },
      "source": [
        ""
      ],
      "execution_count": null,
      "outputs": []
    },
    {
      "cell_type": "code",
      "metadata": {
        "id": "jo5sRawK6DBx"
      },
      "source": [
        ""
      ],
      "execution_count": null,
      "outputs": []
    },
    {
      "cell_type": "code",
      "metadata": {
        "id": "VoCfU3086Gxp"
      },
      "source": [
        ""
      ],
      "execution_count": null,
      "outputs": []
    },
    {
      "cell_type": "code",
      "metadata": {
        "id": "acWsUC8g6KHZ"
      },
      "source": [
        ""
      ],
      "execution_count": null,
      "outputs": []
    },
    {
      "cell_type": "code",
      "metadata": {
        "id": "ja8wSgLC6M_k"
      },
      "source": [
        ""
      ],
      "execution_count": null,
      "outputs": []
    },
    {
      "cell_type": "code",
      "metadata": {
        "id": "lTJ1SOSK6ifa"
      },
      "source": [
        ""
      ],
      "execution_count": null,
      "outputs": []
    },
    {
      "cell_type": "code",
      "metadata": {
        "id": "9VcZIeQG63NS"
      },
      "source": [
        "\r\n"
      ],
      "execution_count": null,
      "outputs": []
    },
    {
      "cell_type": "code",
      "metadata": {
        "id": "RkcHI2_368Xq"
      },
      "source": [
        ""
      ],
      "execution_count": null,
      "outputs": []
    },
    {
      "cell_type": "code",
      "metadata": {
        "id": "iCfnkXcK6iVr"
      },
      "source": [
        ""
      ],
      "execution_count": null,
      "outputs": []
    },
    {
      "cell_type": "code",
      "metadata": {
        "id": "qF5VqT2n6iTk"
      },
      "source": [
        ""
      ],
      "execution_count": null,
      "outputs": []
    },
    {
      "cell_type": "code",
      "metadata": {
        "id": "TL_ddNWAuzF_"
      },
      "source": [
        ""
      ],
      "execution_count": null,
      "outputs": []
    }
  ]
}